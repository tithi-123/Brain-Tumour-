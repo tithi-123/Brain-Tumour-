{
  "nbformat": 4,
  "nbformat_minor": 0,
  "metadata": {
    "colab": {
      "name": "tithi_braintumer_finalans",
      "provenance": [],
      "mount_file_id": "17EKkULvtK1i5QtRGbfOVt1FkDevN9Gl9",
      "authorship_tag": "ABX9TyMps1vsw83VjCOiQZyqLZ59",
      "include_colab_link": true
    },
    "kernelspec": {
      "name": "python3",
      "display_name": "Python 3"
    }
  },
  "cells": [
    {
      "cell_type": "markdown",
      "metadata": {
        "id": "view-in-github",
        "colab_type": "text"
      },
      "source": [
        "<a href=\"https://colab.research.google.com/github/tithi-123/Brain-Tumour-/blob/main/braintumer_finalans.ipynb\" target=\"_parent\"><img src=\"https://colab.research.google.com/assets/colab-badge.svg\" alt=\"Open In Colab\"/></a>"
      ]
    },
    {
      "cell_type": "code",
      "metadata": {
        "id": "v8m5AnTqc4tJ",
        "colab": {
          "base_uri": "https://localhost:8080/",
          "height": 156
        },
        "outputId": "3bacaecb-1395-4525-d4ab-cadf782f5f39"
      },
      "source": [
        "import numpy as np\n",
        "\n",
        "features_list=np.load(\"/content/drive/My Drive/feature_file1.npy\")\n",
        "print(features_list)\n",
        "print(len(features_list))"
      ],
      "execution_count": null,
      "outputs": [
        {
          "output_type": "stream",
          "text": [
            "[[1.37170147 0.26096868 0.78693916 ... 0.70228307 0.95478001 1.        ]\n",
            " [0.91868349 0.28453324 0.81256106 ... 0.82737737 0.58164642 1.        ]\n",
            " [1.04408482 0.25125549 0.79574423 ... 0.78288225 0.72246343 1.        ]\n",
            " ...\n",
            " [1.02206534 0.09591271 0.7340418  ... 0.641435   1.0812317  3.        ]\n",
            " [1.79636949 0.07668119 0.67446671 ... 0.54620163 1.35493425 3.        ]\n",
            " [0.91193738 0.1167889  0.7663657  ... 0.67863917 0.99337252 3.        ]]\n",
            "3064\n"
          ],
          "name": "stdout"
        }
      ]
    },
    {
      "cell_type": "code",
      "metadata": {
        "id": "PbJBGVYYmQnM"
      },
      "source": [
        "!pip install -q pydicom"
      ],
      "execution_count": null,
      "outputs": []
    },
    {
      "cell_type": "code",
      "metadata": {
        "id": "FTZeKGicepq4"
      },
      "source": [
        "import matplotlib.pyplot as plt\n",
        "import os\n",
        "import pydicom\n",
        "import numpy as np \n",
        "import skimage.io\n",
        "import skimage.feature\n",
        "from scipy import ndimage, misc \n",
        "from sklearn.cluster import KMeans\n",
        "\n",
        "from pathlib import Path\n",
        "import numpy as np\n",
        "import h5py\n",
        "import matplotlib.pyplot as plt\n",
        "import pandas as pd\n",
        "\n",
        "from skimage.filters import roberts,sobel,scharr,prewitt\n",
        "\n",
        "import cv2\n"
      ],
      "execution_count": null,
      "outputs": []
    },
    {
      "cell_type": "code",
      "metadata": {
        "id": "bMjEmRvpfAPK"
      },
      "source": [
        "from scipy import ndimage as nd\n",
        "from skimage.feature import local_binary_pattern\n",
        "from skimage.filters import gabor\n",
        "import pandas as pd"
      ],
      "execution_count": null,
      "outputs": []
    },
    {
      "cell_type": "code",
      "metadata": {
        "id": "72npJkWvemEA",
        "colab": {
          "base_uri": "https://localhost:8080/",
          "height": 260
        },
        "outputId": "87e330a5-a458-4eda-86c2-530b1ae5737c"
      },
      "source": [
        "feature_df=pd.DataFrame(features_list,columns=['contrast','energy','homogeneity','correlation','dissimilarity','ASM','lbp_energy','lbp_entropy','gabor_energy','gabor_entropy','label'])\n",
        "feature_df1=feature_df.fillna(0)\n",
        "print(feature_df.fillna(0))"
      ],
      "execution_count": null,
      "outputs": [
        {
          "output_type": "stream",
          "text": [
            "      contrast    energy  homogeneity  ...  gabor_energy  gabor_entropy  label\n",
            "0     1.371701  0.260969     0.786939  ...      0.702283       0.954780    1.0\n",
            "1     0.918683  0.284533     0.812561  ...      0.827377       0.581646    1.0\n",
            "2     1.044085  0.251255     0.795744  ...      0.782882       0.722463    1.0\n",
            "3     1.283146  0.347080     0.809181  ...      0.749144       0.848199    1.0\n",
            "4     1.287427  0.248243     0.781301  ...      0.732454       0.842323    1.0\n",
            "...        ...       ...          ...  ...           ...            ...    ...\n",
            "3059  0.975597  0.090099     0.732711  ...      0.682484       0.984974    3.0\n",
            "3060  1.153716  0.150458     0.781524  ...      0.739621       0.847404    3.0\n",
            "3061  1.022065  0.095913     0.734042  ...      0.641435       1.081232    3.0\n",
            "3062  1.796369  0.076681     0.674467  ...      0.546202       1.354934    3.0\n",
            "3063  0.911937  0.116789     0.766366  ...      0.678639       0.993373    3.0\n",
            "\n",
            "[3064 rows x 11 columns]\n"
          ],
          "name": "stdout"
        }
      ]
    },
    {
      "cell_type": "markdown",
      "metadata": {
        "id": "hUQgwg-FfZLy"
      },
      "source": [
        "svm"
      ]
    },
    {
      "cell_type": "code",
      "metadata": {
        "id": "_WxISpimfS9W",
        "colab": {
          "base_uri": "https://localhost:8080/",
          "height": 34
        },
        "outputId": "91fdb57e-60a8-4b4d-fc72-4d2488273fc7"
      },
      "source": [
        "Y=feature_df1['label'].values\n",
        "\n",
        "X=feature_df1.drop(labels = ['label'], axis=1)\n",
        "\n",
        "from sklearn.model_selection import train_test_split\n",
        "\n",
        "X_train,X_test,Y_train,Y_test = train_test_split(X,Y,test_size=0.4,random_state=20)\n",
        "\n",
        "from sklearn.svm import LinearSVC\n",
        "\n",
        "model=LinearSVC(max_iter=1000)\n",
        "\n",
        "model.fit(X_train,Y_train)\n",
        "prediction_test=model.predict(X_test)\n",
        "from sklearn import metrics\n",
        "print(\"accuracy = \",metrics.accuracy_score(Y_test,prediction_test))"
      ],
      "execution_count": null,
      "outputs": [
        {
          "output_type": "stream",
          "text": [
            "accuracy =  0.6704730831973899\n"
          ],
          "name": "stdout"
        }
      ]
    },
    {
      "cell_type": "code",
      "metadata": {
        "id": "nGmZTAq3FDZh"
      },
      "source": [
        "from sklearn.metrics import accuracy_score\n",
        "from sklearn.metrics import precision_score\n",
        "from sklearn.metrics import recall_score\n",
        "from sklearn.metrics import f1_score\n",
        "from sklearn.metrics import confusion_matrix"
      ],
      "execution_count": null,
      "outputs": []
    },
    {
      "cell_type": "code",
      "metadata": {
        "id": "JGWgutZfFDV1",
        "colab": {
          "base_uri": "https://localhost:8080/",
          "height": 139
        },
        "outputId": "5a022203-6d5f-4af9-a2be-7753b779d24a"
      },
      "source": [
        "print('accuracy_score',accuracy_score(Y_test,prediction_test))\n",
        "print('precision_score',precision_score(Y_test,prediction_test,average=None))\n",
        "print('recall_score',recall_score(Y_test,prediction_test,average=None))\n",
        "print('f1_score',f1_score(Y_test,prediction_test,average=None))\n",
        "print('confusion_matrix',confusion_matrix(Y_test,prediction_test))"
      ],
      "execution_count": null,
      "outputs": [
        {
          "output_type": "stream",
          "text": [
            "accuracy_score 0.6704730831973899\n",
            "precision_score [0.56818182 0.70684039 0.65208333]\n",
            "recall_score [0.27573529 0.76408451 0.81088083]\n",
            "f1_score [0.37128713 0.73434856 0.72286374]\n",
            "confusion_matrix [[ 75 120  77]\n",
            " [ 44 434  90]\n",
            " [ 13  60 313]]\n"
          ],
          "name": "stdout"
        }
      ]
    },
    {
      "cell_type": "code",
      "metadata": {
        "id": "R_Uky0aRFC4e"
      },
      "source": [
        ""
      ],
      "execution_count": null,
      "outputs": []
    },
    {
      "cell_type": "markdown",
      "metadata": {
        "id": "22a_0xp2fbSP"
      },
      "source": [
        "RandomForestClassifier"
      ]
    },
    {
      "cell_type": "code",
      "metadata": {
        "id": "QS7-iKr0fa6l"
      },
      "source": [
        "from sklearn.ensemble import RandomForestClassifier"
      ],
      "execution_count": null,
      "outputs": []
    },
    {
      "cell_type": "code",
      "metadata": {
        "id": "a-LmWpVfgvOu"
      },
      "source": [
        "Y=feature_df1['label'].values\n",
        "\n",
        "X=feature_df1.drop(labels = ['label'], axis=1)\n",
        "\n",
        "from sklearn.model_selection import train_test_split\n",
        "\n",
        "X_train,X_test,Y_train,Y_test = train_test_split(X,Y,test_size=0.4,random_state=20)\n"
      ],
      "execution_count": null,
      "outputs": []
    },
    {
      "cell_type": "code",
      "metadata": {
        "id": "E4tyKeCDfrKG",
        "colab": {
          "base_uri": "https://localhost:8080/",
          "height": 34
        },
        "outputId": "e403e178-81e6-4c6e-dd86-d9da63d418d8"
      },
      "source": [
        "model1=RandomForestClassifier(n_estimators=100,random_state=42)\n",
        "model1.fit(X_train,Y_train)\n",
        "prediction_test=model1.predict(X_test)\n",
        "from sklearn import metrics\n",
        "print(\"accuracy = \",metrics.accuracy_score(Y_test,prediction_test))\n"
      ],
      "execution_count": null,
      "outputs": [
        {
          "output_type": "stream",
          "text": [
            "accuracy =  0.763458401305057\n"
          ],
          "name": "stdout"
        }
      ]
    },
    {
      "cell_type": "code",
      "metadata": {
        "id": "QyXAvRw7fqyS",
        "colab": {
          "base_uri": "https://localhost:8080/",
          "height": 139
        },
        "outputId": "7ed426b8-f0ee-4b67-f8ab-1df0b6d76cb1"
      },
      "source": [
        "print('accuracy_score',accuracy_score(Y_test,prediction_test))\n",
        "print('precision_score',precision_score(Y_test,prediction_test,average=None))\n",
        "print('recall_score',recall_score(Y_test,prediction_test,average=None))\n",
        "print('f1_score',f1_score(Y_test,prediction_test,average=None))\n",
        "print('confusion_matrix',confusion_matrix(Y_test,prediction_test))"
      ],
      "execution_count": null,
      "outputs": [
        {
          "output_type": "stream",
          "text": [
            "accuracy_score 0.763458401305057\n",
            "precision_score [0.61044177 0.78350515 0.83037975]\n",
            "recall_score [0.55882353 0.8028169  0.84974093]\n",
            "f1_score [0.58349328 0.79304348 0.83994878]\n",
            "confusion_matrix [[152  90  30]\n",
            " [ 75 456  37]\n",
            " [ 22  36 328]]\n"
          ],
          "name": "stdout"
        }
      ]
    },
    {
      "cell_type": "code",
      "metadata": {
        "id": "zcpOfVEZhNAx"
      },
      "source": [
        ""
      ],
      "execution_count": null,
      "outputs": []
    },
    {
      "cell_type": "code",
      "metadata": {
        "id": "_jf6mJtNIrEE"
      },
      "source": [
        ""
      ],
      "execution_count": null,
      "outputs": []
    },
    {
      "cell_type": "code",
      "metadata": {
        "id": "bhm9YQgiIqnP"
      },
      "source": [
        ""
      ],
      "execution_count": null,
      "outputs": []
    },
    {
      "cell_type": "markdown",
      "metadata": {
        "id": "AlwFB_13hN4Q"
      },
      "source": [
        "with k means"
      ]
    },
    {
      "cell_type": "code",
      "metadata": {
        "id": "DRY8EAdehM8k"
      },
      "source": [
        "import numpy as np\n",
        "features_list_cnn=np.load(\"/content/drive/My Drive/feature_file_cnn.npy\")"
      ],
      "execution_count": null,
      "outputs": []
    },
    {
      "cell_type": "code",
      "metadata": {
        "id": "0DwtfcqHiCDV",
        "colab": {
          "base_uri": "https://localhost:8080/",
          "height": 260
        },
        "outputId": "506186e4-004c-49d1-bf60-131e464d9139"
      },
      "source": [
        "feature_df_cnn=pd.DataFrame(features_list_cnn,columns=['contrast','energy','homogeneity','correlation','dissimilarity','ASM','lbp_energy','lbp_entropy','gabor_energy','gabor_entropy','label'])\n",
        "feature_df1_cnn=feature_df_cnn.fillna(0)\n",
        "print(feature_df_cnn.fillna(0))"
      ],
      "execution_count": null,
      "outputs": [
        {
          "output_type": "stream",
          "text": [
            "      contrast    energy  homogeneity  ...  gabor_energy  gabor_entropy  label\n",
            "0     1.579646  0.229679     0.778785  ...      0.702283       0.954780    1.0\n",
            "1     1.061380  0.259243     0.803405  ...      0.827377       0.581646    1.0\n",
            "2     1.207207  0.223041     0.788068  ...      0.782882       0.722463    1.0\n",
            "3     1.450033  0.321876     0.805935  ...      0.749144       0.848199    1.0\n",
            "4     1.467737  0.216545     0.774829  ...      0.732454       0.842323    1.0\n",
            "...        ...       ...          ...  ...           ...            ...    ...\n",
            "3059  1.112546  0.089346     0.719721  ...      0.682484       0.984974    3.0\n",
            "3060  1.357407  0.159162     0.772012  ...      0.739621       0.847404    3.0\n",
            "3061  1.167392  0.096328     0.722155  ...      0.641435       1.081232    3.0\n",
            "3062  2.065196  0.076201     0.664179  ...      0.546202       1.354934    3.0\n",
            "3063  1.042827  0.124609     0.755635  ...      0.678639       0.993373    3.0\n",
            "\n",
            "[3064 rows x 11 columns]\n"
          ],
          "name": "stdout"
        }
      ]
    },
    {
      "cell_type": "code",
      "metadata": {
        "id": "UwvdF06Xh37h"
      },
      "source": [
        "Y_cnn=feature_df1_cnn['label'].values\n",
        "\n",
        "X_cnn=feature_df1_cnn.drop(labels = ['label'], axis=1)\n",
        "\n",
        "from sklearn.model_selection import train_test_split\n",
        "\n",
        "X_train_cnn,X_test_cnn,Y_train_cnn,Y_test_cnn = train_test_split(X_cnn,Y_cnn,test_size=0.4,random_state=20)\n"
      ],
      "execution_count": null,
      "outputs": []
    },
    {
      "cell_type": "code",
      "metadata": {
        "id": "65X-tVVZh5An",
        "colab": {
          "base_uri": "https://localhost:8080/",
          "height": 34
        },
        "outputId": "beebef0e-8500-4a38-e07a-4f7f31e53a92"
      },
      "source": [
        "from sklearn.ensemble import RandomForestClassifier\n",
        "model_cnn=RandomForestClassifier(n_estimators=1000,random_state=42)\n",
        "model_cnn.fit(X_train_cnn,Y_train_cnn)\n",
        "prediction_test_cnn=model_cnn.predict(X_test_cnn)\n",
        "from sklearn import metrics\n",
        "print(\"accuracy = \",metrics.accuracy_score(Y_test_cnn,prediction_test_cnn))\n"
      ],
      "execution_count": null,
      "outputs": [
        {
          "output_type": "stream",
          "text": [
            "accuracy =  0.7495921696574225\n"
          ],
          "name": "stdout"
        }
      ]
    },
    {
      "cell_type": "code",
      "metadata": {
        "id": "HwcHo0F8lCm5",
        "colab": {
          "base_uri": "https://localhost:8080/",
          "height": 185
        },
        "outputId": "ca1d6dd9-44bc-4ee9-d28b-ea3928f62096"
      },
      "source": [
        "print(Y_train.shape[0])\n",
        "print(Y_test.shape[0])"
      ],
      "execution_count": null,
      "outputs": [
        {
          "output_type": "error",
          "ename": "NameError",
          "evalue": "ignored",
          "traceback": [
            "\u001b[0;31m---------------------------------------------------------------------------\u001b[0m",
            "\u001b[0;31mNameError\u001b[0m                                 Traceback (most recent call last)",
            "\u001b[0;32m<ipython-input-1-37bbecb54318>\u001b[0m in \u001b[0;36m<module>\u001b[0;34m()\u001b[0m\n\u001b[0;32m----> 1\u001b[0;31m \u001b[0mprint\u001b[0m\u001b[0;34m(\u001b[0m\u001b[0mY_train\u001b[0m\u001b[0;34m.\u001b[0m\u001b[0mshape\u001b[0m\u001b[0;34m[\u001b[0m\u001b[0;36m0\u001b[0m\u001b[0;34m]\u001b[0m\u001b[0;34m)\u001b[0m\u001b[0;34m\u001b[0m\u001b[0;34m\u001b[0m\u001b[0m\n\u001b[0m\u001b[1;32m      2\u001b[0m \u001b[0mprint\u001b[0m\u001b[0;34m(\u001b[0m\u001b[0mY_test\u001b[0m\u001b[0;34m.\u001b[0m\u001b[0mshape\u001b[0m\u001b[0;34m[\u001b[0m\u001b[0;36m0\u001b[0m\u001b[0;34m]\u001b[0m\u001b[0;34m)\u001b[0m\u001b[0;34m\u001b[0m\u001b[0;34m\u001b[0m\u001b[0m\n",
            "\u001b[0;31mNameError\u001b[0m: name 'Y_train' is not defined"
          ]
        }
      ]
    }
  ]
}